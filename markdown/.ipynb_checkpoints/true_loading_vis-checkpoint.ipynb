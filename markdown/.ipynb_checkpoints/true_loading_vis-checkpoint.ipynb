{
 "cells": [
  {
   "cell_type": "code",
   "execution_count": 13,
   "id": "e4a26082",
   "metadata": {},
   "outputs": [],
   "source": [
    "import pandas as pd\n",
    "import seaborn as sns\n",
    "import matplotlib.pyplot as plt\n",
    "sns.set()\n",
    "import pickle\n",
    "import numpy as np"
   ]
  },
  {
   "cell_type": "code",
   "execution_count": 5,
   "id": "9b92497b",
   "metadata": {},
   "outputs": [],
   "source": [
    "loading_dirs = [\"/Users/jiguangli/Dropbox/irt_ibp_data/fake_10000_40_2_1_params.pickle\",\n",
    "               \"/Users/jiguangli/Dropbox/irt_ibp_data/fake_10000_40_3_1_params.pickle\",\n",
    "               \"/Users/jiguangli/Dropbox/irt_ibp_data/fake_10000_40_3_2_params.pickle\"]\n",
    "alphas = {}\n",
    "for ldir in loading_dirs:\n",
    "    key = ldir.split(\"/\")[-1][:-14]\n",
    "    with open(ldir, 'rb') as handle:\n",
    "        b = pickle.load(handle)\n",
    "    alphas[key] = b[\"alphas\"]"
   ]
  },
  {
   "cell_type": "code",
   "execution_count": 9,
   "id": "3dca8f13",
   "metadata": {},
   "outputs": [
    {
     "data": {
      "text/plain": [
       "dict_keys(['fake_10000_40_2_1', 'fake_10000_40_3_1', 'fake_10000_40_3_2'])"
      ]
     },
     "execution_count": 9,
     "metadata": {},
     "output_type": "execute_result"
    }
   ],
   "source": [
    "alphas.keys()"
   ]
  },
  {
   "cell_type": "code",
   "execution_count": 15,
   "id": "0520b829",
   "metadata": {},
   "outputs": [
    {
     "data": {
      "text/plain": [
       "0.0"
      ]
     },
     "execution_count": 15,
     "metadata": {},
     "output_type": "execute_result"
    }
   ],
   "source": [
    "np.min(alphas['fake_10000_40_3_2'])"
   ]
  },
  {
   "cell_type": "markdown",
   "id": "5245e337",
   "metadata": {},
   "source": [
    "### Dataset 1"
   ]
  },
  {
   "cell_type": "code",
   "execution_count": 8,
   "id": "92124aad",
   "metadata": {},
   "outputs": [
    {
     "data": {
      "text/plain": [
       "array([[0.        , 0.99952002],\n",
       "       [1.8181159 , 0.        ],\n",
       "       [0.        , 1.12048113],\n",
       "       [1.80789286, 0.        ],\n",
       "       [0.13481   , 0.        ],\n",
       "       [0.        , 0.93923665],\n",
       "       [1.53286612, 0.        ],\n",
       "       [0.        , 0.6823405 ],\n",
       "       [1.65306946, 0.        ],\n",
       "       [1.40518261, 0.        ],\n",
       "       [0.17723441, 0.        ],\n",
       "       [0.        , 0.01605271],\n",
       "       [0.        , 1.2939909 ],\n",
       "       [1.62005253, 0.        ],\n",
       "       [0.        , 0.30343574],\n",
       "       [0.        , 0.30286761],\n",
       "       [2.03783974, 0.        ],\n",
       "       [0.        , 0.93967586],\n",
       "       [0.        , 2.66033877],\n",
       "       [0.63619094, 0.        ],\n",
       "       [0.63637759, 0.        ],\n",
       "       [0.66867213, 0.        ],\n",
       "       [1.04346911, 0.        ],\n",
       "       [0.42139516, 0.        ],\n",
       "       [0.        , 0.5148135 ],\n",
       "       [2.02306703, 0.        ],\n",
       "       [0.97057938, 0.        ],\n",
       "       [1.1348078 , 0.        ],\n",
       "       [0.        , 0.86156362],\n",
       "       [0.        , 1.54902715],\n",
       "       [0.        , 0.32727358],\n",
       "       [0.        , 1.07548504],\n",
       "       [0.        , 1.48612705],\n",
       "       [0.        , 0.31052448],\n",
       "       [0.        , 1.38948311],\n",
       "       [0.        , 1.1136562 ],\n",
       "       [0.03787989, 0.        ],\n",
       "       [0.        , 2.29163515],\n",
       "       [0.        , 2.11443248],\n",
       "       [1.17736195, 0.        ]])"
      ]
     },
     "execution_count": 8,
     "metadata": {},
     "output_type": "execute_result"
    }
   ],
   "source": [
    "amat = alphas['fake_10000_40_2_1']\n",
    "min_val, max_val = 0, 3.5\n",
    "cm = sns.light_palette(\"blue\", as_cmap=True)\n",
    "x=pd.DataFrame(intersection_matrix)\n",
    "x=x.style.background_gradient(cmap=cm)\n",
    "display(x)"
   ]
  },
  {
   "cell_type": "code",
   "execution_count": null,
   "id": "88fdaa03",
   "metadata": {},
   "outputs": [],
   "source": []
  }
 ],
 "metadata": {
  "kernelspec": {
   "display_name": "ibp",
   "language": "python",
   "name": "ibp"
  },
  "language_info": {
   "codemirror_mode": {
    "name": "ipython",
    "version": 3
   },
   "file_extension": ".py",
   "mimetype": "text/x-python",
   "name": "python",
   "nbconvert_exporter": "python",
   "pygments_lexer": "ipython3",
   "version": "3.8.3"
  }
 },
 "nbformat": 4,
 "nbformat_minor": 5
}
